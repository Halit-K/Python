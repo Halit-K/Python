{
 "cells": [
  {
   "cell_type": "code",
   "execution_count": 1,
   "id": "a954e34c-c0cb-42dc-8402-b726cbbfdac3",
   "metadata": {},
   "outputs": [
    {
     "name": "stdin",
     "output_type": "stream",
     "text": [
      "enter a positive number. 407\n"
     ]
    },
    {
     "name": "stdout",
     "output_type": "stream",
     "text": [
      "407 is an Armstrong Number.\n"
     ]
    }
   ],
   "source": [
    "while True :\n",
    "    number = input(\"enter a positive number.\")\n",
    "    digits = len(number)\n",
    "    summ = 0\n",
    "    if not number.isdigit() :\n",
    "        print(number, \"is invalid entry. enter numberic value!\")\n",
    "    elif int(number) >= 0 :\n",
    "        for i in range(digits) :\n",
    "            summ = summ + int(number[i]) ** digits\n",
    "        if summ == int(number) :\n",
    "            print(number, \"is an Armstrong Number.\")\n",
    "            break\n",
    "        else :\n",
    "            print(number, \"is not an Armstrong Number.\")\n",
    "            break"
   ]
  },
  {
   "cell_type": "code",
   "execution_count": null,
   "id": "b4e7e843-cff4-4f6e-93c2-5ba4eb93149f",
   "metadata": {},
   "outputs": [],
   "source": []
  }
 ],
 "metadata": {
  "kernelspec": {
   "display_name": "Python 3",
   "language": "python",
   "name": "python3"
  },
  "language_info": {
   "codemirror_mode": {
    "name": "ipython",
    "version": 3
   },
   "file_extension": ".py",
   "mimetype": "text/x-python",
   "name": "python",
   "nbconvert_exporter": "python",
   "pygments_lexer": "ipython3",
   "version": "3.8.8"
  }
 },
 "nbformat": 4,
 "nbformat_minor": 5
}
